{
 "cells": [
  {
   "cell_type": "code",
   "execution_count": 1,
   "id": "e4759fd7-4c09-4dd9-8132-1052ee9e08a9",
   "metadata": {},
   "outputs": [
    {
     "name": "stdout",
     "output_type": "stream",
     "text": [
      "Collecting unstructured\n",
      "  Using cached unstructured-0.10.28-py3-none-any.whl.metadata (25 kB)\n",
      "Collecting chardet (from unstructured)\n",
      "  Using cached chardet-5.2.0-py3-none-any.whl.metadata (3.4 kB)\n",
      "Collecting filetype (from unstructured)\n",
      "  Using cached filetype-1.2.0-py2.py3-none-any.whl (19 kB)\n",
      "Collecting python-magic (from unstructured)\n",
      "  Using cached python_magic-0.4.27-py2.py3-none-any.whl (13 kB)\n",
      "Collecting lxml (from unstructured)\n",
      "  Using cached lxml-4.9.3-cp311-cp311-win_amd64.whl.metadata (3.9 kB)\n",
      "Collecting nltk (from unstructured)\n",
      "  Using cached nltk-3.8.1-py3-none-any.whl (1.5 MB)\n",
      "Collecting tabulate (from unstructured)\n",
      "  Using cached tabulate-0.9.0-py3-none-any.whl (35 kB)\n",
      "Requirement already satisfied: requests in c:\\users\\abhay\\onedrive\\desktop\\llm\\llm\\env_for_llm\\lib\\site-packages (from unstructured) (2.31.0)\n",
      "Requirement already satisfied: beautifulsoup4 in c:\\users\\abhay\\onedrive\\desktop\\llm\\llm\\env_for_llm\\lib\\site-packages (from unstructured) (4.12.2)\n",
      "Collecting emoji (from unstructured)\n",
      "  Using cached emoji-2.8.0-py2.py3-none-any.whl.metadata (5.3 kB)\n",
      "Collecting dataclasses-json (from unstructured)\n",
      "  Downloading dataclasses_json-0.6.1-py3-none-any.whl.metadata (24 kB)\n",
      "Collecting python-iso639 (from unstructured)\n",
      "  Using cached python_iso639-2023.6.15-py3-none-any.whl.metadata (13 kB)\n",
      "Collecting langdetect (from unstructured)\n",
      "  Using cached langdetect-1.0.9-py3-none-any.whl\n",
      "Collecting numpy (from unstructured)\n",
      "  Downloading numpy-1.26.1-cp311-cp311-win_amd64.whl.metadata (61 kB)\n",
      "     ---------------------------------------- 0.0/61.2 kB ? eta -:--:--\n",
      "     -------------------- ------------------- 30.7/61.2 kB 1.3 MB/s eta 0:00:01\n",
      "     -------------------------------------- 61.2/61.2 kB 808.8 kB/s eta 0:00:00\n",
      "Collecting rapidfuzz (from unstructured)\n",
      "  Using cached rapidfuzz-3.5.2-cp311-cp311-win_amd64.whl.metadata (11 kB)\n",
      "Collecting backoff (from unstructured)\n",
      "  Using cached backoff-2.2.1-py3-none-any.whl (15 kB)\n",
      "Collecting typing-extensions (from unstructured)\n",
      "  Downloading typing_extensions-4.8.0-py3-none-any.whl.metadata (3.0 kB)\n",
      "Requirement already satisfied: soupsieve>1.2 in c:\\users\\abhay\\onedrive\\desktop\\llm\\llm\\env_for_llm\\lib\\site-packages (from beautifulsoup4->unstructured) (2.5)\n",
      "Collecting marshmallow<4.0.0,>=3.18.0 (from dataclasses-json->unstructured)\n",
      "  Downloading marshmallow-3.20.1-py3-none-any.whl.metadata (7.8 kB)\n",
      "Collecting typing-inspect<1,>=0.4.0 (from dataclasses-json->unstructured)\n",
      "  Downloading typing_inspect-0.9.0-py3-none-any.whl.metadata (1.5 kB)\n",
      "Requirement already satisfied: six in c:\\users\\abhay\\onedrive\\desktop\\llm\\llm\\env_for_llm\\lib\\site-packages (from langdetect->unstructured) (1.16.0)\n",
      "Collecting click (from nltk->unstructured)\n",
      "  Using cached click-8.1.7-py3-none-any.whl.metadata (3.0 kB)\n",
      "Collecting joblib (from nltk->unstructured)\n",
      "  Using cached joblib-1.3.2-py3-none-any.whl.metadata (5.4 kB)\n",
      "Collecting regex>=2021.8.3 (from nltk->unstructured)\n",
      "  Using cached regex-2023.10.3-cp311-cp311-win_amd64.whl.metadata (41 kB)\n",
      "Collecting tqdm (from nltk->unstructured)\n",
      "  Using cached tqdm-4.66.1-py3-none-any.whl.metadata (57 kB)\n",
      "Requirement already satisfied: charset-normalizer<4,>=2 in c:\\users\\abhay\\onedrive\\desktop\\llm\\llm\\env_for_llm\\lib\\site-packages (from requests->unstructured) (3.3.2)\n",
      "Requirement already satisfied: idna<4,>=2.5 in c:\\users\\abhay\\onedrive\\desktop\\llm\\llm\\env_for_llm\\lib\\site-packages (from requests->unstructured) (3.4)\n",
      "Requirement already satisfied: urllib3<3,>=1.21.1 in c:\\users\\abhay\\onedrive\\desktop\\llm\\llm\\env_for_llm\\lib\\site-packages (from requests->unstructured) (2.0.7)\n",
      "Requirement already satisfied: certifi>=2017.4.17 in c:\\users\\abhay\\onedrive\\desktop\\llm\\llm\\env_for_llm\\lib\\site-packages (from requests->unstructured) (2023.7.22)\n",
      "Requirement already satisfied: packaging>=17.0 in c:\\users\\abhay\\onedrive\\desktop\\llm\\llm\\env_for_llm\\lib\\site-packages (from marshmallow<4.0.0,>=3.18.0->dataclasses-json->unstructured) (23.2)\n",
      "Collecting mypy-extensions>=0.3.0 (from typing-inspect<1,>=0.4.0->dataclasses-json->unstructured)\n",
      "  Downloading mypy_extensions-1.0.0-py3-none-any.whl (4.7 kB)\n",
      "Requirement already satisfied: colorama in c:\\users\\abhay\\onedrive\\desktop\\llm\\llm\\env_for_llm\\lib\\site-packages (from click->nltk->unstructured) (0.4.6)\n",
      "Using cached unstructured-0.10.28-py3-none-any.whl (1.7 MB)\n",
      "Using cached chardet-5.2.0-py3-none-any.whl (199 kB)\n",
      "Downloading dataclasses_json-0.6.1-py3-none-any.whl (27 kB)\n",
      "Using cached emoji-2.8.0-py2.py3-none-any.whl (358 kB)\n",
      "Using cached lxml-4.9.3-cp311-cp311-win_amd64.whl (3.8 MB)\n",
      "Downloading numpy-1.26.1-cp311-cp311-win_amd64.whl (15.8 MB)\n",
      "   ---------------------------------------- 0.0/15.8 MB ? eta -:--:--\n",
      "   ---------------------------------------- 0.1/15.8 MB 5.1 MB/s eta 0:00:04\n",
      "    --------------------------------------- 0.3/15.8 MB 3.8 MB/s eta 0:00:05\n",
      "   - -------------------------------------- 0.6/15.8 MB 4.1 MB/s eta 0:00:04\n",
      "   -- ------------------------------------- 1.0/15.8 MB 5.1 MB/s eta 0:00:03\n",
      "   --- ------------------------------------ 1.5/15.8 MB 6.2 MB/s eta 0:00:03\n",
      "   ---- ----------------------------------- 1.9/15.8 MB 6.7 MB/s eta 0:00:03\n",
      "   ------ --------------------------------- 2.4/15.8 MB 7.7 MB/s eta 0:00:02\n",
      "   ------- -------------------------------- 2.9/15.8 MB 8.0 MB/s eta 0:00:02\n",
      "   -------- ------------------------------- 3.4/15.8 MB 8.3 MB/s eta 0:00:02\n",
      "   --------- ------------------------------ 3.9/15.8 MB 8.5 MB/s eta 0:00:02\n",
      "   ---------- ----------------------------- 4.1/15.8 MB 8.0 MB/s eta 0:00:02\n",
      "   ----------- ---------------------------- 4.6/15.8 MB 8.5 MB/s eta 0:00:02\n",
      "   ------------ --------------------------- 5.1/15.8 MB 8.5 MB/s eta 0:00:02\n",
      "   -------------- ------------------------- 5.6/15.8 MB 8.7 MB/s eta 0:00:02\n",
      "   --------------- ------------------------ 6.1/15.8 MB 8.8 MB/s eta 0:00:02\n",
      "   ---------------- ----------------------- 6.7/15.8 MB 9.1 MB/s eta 0:00:02\n",
      "   ------------------ --------------------- 7.2/15.8 MB 9.1 MB/s eta 0:00:01\n",
      "   -------------------- ------------------- 7.9/15.8 MB 9.4 MB/s eta 0:00:01\n",
      "   -------------------- ------------------- 8.3/15.8 MB 9.3 MB/s eta 0:00:01\n",
      "   ---------------------- ----------------- 9.0/15.8 MB 9.6 MB/s eta 0:00:01\n",
      "   ----------------------- ---------------- 9.5/15.8 MB 9.6 MB/s eta 0:00:01\n",
      "   ------------------------- -------------- 10.0/15.8 MB 9.7 MB/s eta 0:00:01\n",
      "   -------------------------- ------------- 10.4/15.8 MB 10.1 MB/s eta 0:00:01\n",
      "   --------------------------- ------------ 11.0/15.8 MB 10.6 MB/s eta 0:00:01\n",
      "   ----------------------------- ---------- 11.5/15.8 MB 10.7 MB/s eta 0:00:01\n",
      "   ------------------------------ --------- 12.1/15.8 MB 10.7 MB/s eta 0:00:01\n",
      "   ------------------------------- -------- 12.6/15.8 MB 10.7 MB/s eta 0:00:01\n",
      "   --------------------------------- ------ 13.0/15.8 MB 10.9 MB/s eta 0:00:01\n",
      "   ---------------------------------- ----- 13.7/15.8 MB 10.9 MB/s eta 0:00:01\n",
      "   ----------------------------------- ---- 14.1/15.8 MB 10.9 MB/s eta 0:00:01\n",
      "   ------------------------------------- -- 14.7/15.8 MB 11.1 MB/s eta 0:00:01\n",
      "   -------------------------------------- - 15.1/15.8 MB 11.5 MB/s eta 0:00:01\n",
      "   ---------------------------------------  15.6/15.8 MB 11.5 MB/s eta 0:00:01\n",
      "   ---------------------------------------  15.8/15.8 MB 11.3 MB/s eta 0:00:01\n",
      "   ---------------------------------------- 15.8/15.8 MB 10.6 MB/s eta 0:00:00\n",
      "Using cached python_iso639-2023.6.15-py3-none-any.whl (275 kB)\n",
      "Using cached rapidfuzz-3.5.2-cp311-cp311-win_amd64.whl (1.7 MB)\n",
      "Downloading typing_extensions-4.8.0-py3-none-any.whl (31 kB)\n",
      "Downloading marshmallow-3.20.1-py3-none-any.whl (49 kB)\n",
      "   ---------------------------------------- 0.0/49.4 kB ? eta -:--:--\n",
      "   ---------------------------------------- 49.4/49.4 kB 2.4 MB/s eta 0:00:00\n",
      "Using cached regex-2023.10.3-cp311-cp311-win_amd64.whl (269 kB)\n",
      "Downloading typing_inspect-0.9.0-py3-none-any.whl (8.8 kB)\n",
      "Using cached click-8.1.7-py3-none-any.whl (97 kB)\n",
      "Using cached joblib-1.3.2-py3-none-any.whl (302 kB)\n",
      "Using cached tqdm-4.66.1-py3-none-any.whl (78 kB)\n",
      "Installing collected packages: filetype, typing-extensions, tqdm, tabulate, regex, rapidfuzz, python-magic, python-iso639, numpy, mypy-extensions, marshmallow, lxml, langdetect, joblib, emoji, click, chardet, backoff, typing-inspect, nltk, dataclasses-json, unstructured\n",
      "Successfully installed backoff-2.2.1 chardet-5.2.0 click-8.1.7 dataclasses-json-0.6.1 emoji-2.8.0 filetype-1.2.0 joblib-1.3.2 langdetect-1.0.9 lxml-4.9.3 marshmallow-3.20.1 mypy-extensions-1.0.0 nltk-3.8.1 numpy-1.26.1 python-iso639-2023.6.15 python-magic-0.4.27 rapidfuzz-3.5.2 regex-2023.10.3 tabulate-0.9.0 tqdm-4.66.1 typing-extensions-4.8.0 typing-inspect-0.9.0 unstructured-0.10.28\n"
     ]
    }
   ],
   "source": [
    "!pip install unstructured"
   ]
  },
  {
   "cell_type": "code",
   "execution_count": 3,
   "id": "961542af-56f4-498c-bae4-fb00d0f1c5c7",
   "metadata": {},
   "outputs": [
    {
     "name": "stdout",
     "output_type": "stream",
     "text": [
      "Collecting python-magic-bin\n",
      "  Using cached python_magic_bin-0.4.14-py2.py3-none-win_amd64.whl (409 kB)\n",
      "Installing collected packages: python-magic-bin\n",
      "Successfully installed python-magic-bin-0.4.14\n"
     ]
    }
   ],
   "source": [
    "!pip install python-magic-bin\n"
   ]
  },
  {
   "cell_type": "code",
   "execution_count": 4,
   "id": "58744db4-8a90-4f48-a3de-6c620b980d94",
   "metadata": {},
   "outputs": [
    {
     "name": "stdout",
     "output_type": "stream",
     "text": [
      "Collecting langchain\n",
      "  Downloading langchain-0.0.330-py3-none-any.whl.metadata (16 kB)\n",
      "Requirement already satisfied: PyYAML>=5.3 in c:\\users\\abhay\\onedrive\\desktop\\llm\\llm\\env_for_llm\\lib\\site-packages (from langchain) (6.0.1)\n",
      "Collecting SQLAlchemy<3,>=1.4 (from langchain)\n",
      "  Downloading SQLAlchemy-2.0.23-cp311-cp311-win_amd64.whl.metadata (9.8 kB)\n",
      "Collecting aiohttp<4.0.0,>=3.8.3 (from langchain)\n",
      "  Downloading aiohttp-3.8.6-cp311-cp311-win_amd64.whl.metadata (7.9 kB)\n",
      "Collecting anyio<4.0 (from langchain)\n",
      "  Downloading anyio-3.7.1-py3-none-any.whl.metadata (4.7 kB)\n",
      "Requirement already satisfied: dataclasses-json<0.7,>=0.5.7 in c:\\users\\abhay\\onedrive\\desktop\\llm\\llm\\env_for_llm\\lib\\site-packages (from langchain) (0.6.1)\n",
      "Collecting jsonpatch<2.0,>=1.33 (from langchain)\n",
      "  Downloading jsonpatch-1.33-py2.py3-none-any.whl.metadata (3.0 kB)\n",
      "Collecting langsmith<0.1.0,>=0.0.52 (from langchain)\n",
      "  Downloading langsmith-0.0.57-py3-none-any.whl.metadata (10 kB)\n",
      "Requirement already satisfied: numpy<2,>=1 in c:\\users\\abhay\\onedrive\\desktop\\llm\\llm\\env_for_llm\\lib\\site-packages (from langchain) (1.26.1)\n",
      "Collecting pydantic<3,>=1 (from langchain)\n",
      "  Downloading pydantic-2.4.2-py3-none-any.whl.metadata (158 kB)\n",
      "     ---------------------------------------- 0.0/158.6 kB ? eta -:--:--\n",
      "     ------------------------------------ - 153.6/158.6 kB 3.1 MB/s eta 0:00:01\n",
      "     ------------------------------------ - 153.6/158.6 kB 3.1 MB/s eta 0:00:01\n",
      "     ------------------------------------ - 153.6/158.6 kB 3.1 MB/s eta 0:00:01\n",
      "     ------------------------------------ - 153.6/158.6 kB 3.1 MB/s eta 0:00:01\n",
      "     ------------------------------------ - 153.6/158.6 kB 3.1 MB/s eta 0:00:01\n",
      "     ------------------------------------ - 153.6/158.6 kB 3.1 MB/s eta 0:00:01\n",
      "     ------------------------------------ - 153.6/158.6 kB 3.1 MB/s eta 0:00:01\n",
      "     ------------------------------------ 158.6/158.6 kB 431.4 kB/s eta 0:00:00\n",
      "Requirement already satisfied: requests<3,>=2 in c:\\users\\abhay\\onedrive\\desktop\\llm\\llm\\env_for_llm\\lib\\site-packages (from langchain) (2.31.0)\n",
      "Collecting tenacity<9.0.0,>=8.1.0 (from langchain)\n",
      "  Downloading tenacity-8.2.3-py3-none-any.whl.metadata (1.0 kB)\n",
      "Requirement already satisfied: attrs>=17.3.0 in c:\\users\\abhay\\onedrive\\desktop\\llm\\llm\\env_for_llm\\lib\\site-packages (from aiohttp<4.0.0,>=3.8.3->langchain) (23.1.0)\n",
      "Requirement already satisfied: charset-normalizer<4.0,>=2.0 in c:\\users\\abhay\\onedrive\\desktop\\llm\\llm\\env_for_llm\\lib\\site-packages (from aiohttp<4.0.0,>=3.8.3->langchain) (3.3.2)\n",
      "Collecting multidict<7.0,>=4.5 (from aiohttp<4.0.0,>=3.8.3->langchain)\n",
      "  Downloading multidict-6.0.4-cp311-cp311-win_amd64.whl (28 kB)\n",
      "Collecting async-timeout<5.0,>=4.0.0a3 (from aiohttp<4.0.0,>=3.8.3->langchain)\n",
      "  Downloading async_timeout-4.0.3-py3-none-any.whl.metadata (4.2 kB)\n",
      "Collecting yarl<2.0,>=1.0 (from aiohttp<4.0.0,>=3.8.3->langchain)\n",
      "  Downloading yarl-1.9.2-cp311-cp311-win_amd64.whl (60 kB)\n",
      "     ---------------------------------------- 0.0/60.2 kB ? eta -:--:--\n",
      "     ---------------------------------------- 60.2/60.2 kB 3.1 MB/s eta 0:00:00\n",
      "Collecting frozenlist>=1.1.1 (from aiohttp<4.0.0,>=3.8.3->langchain)\n",
      "  Downloading frozenlist-1.4.0-cp311-cp311-win_amd64.whl.metadata (5.3 kB)\n",
      "Collecting aiosignal>=1.1.2 (from aiohttp<4.0.0,>=3.8.3->langchain)\n",
      "  Downloading aiosignal-1.3.1-py3-none-any.whl (7.6 kB)\n",
      "Requirement already satisfied: idna>=2.8 in c:\\users\\abhay\\onedrive\\desktop\\llm\\llm\\env_for_llm\\lib\\site-packages (from anyio<4.0->langchain) (3.4)\n",
      "Requirement already satisfied: sniffio>=1.1 in c:\\users\\abhay\\onedrive\\desktop\\llm\\llm\\env_for_llm\\lib\\site-packages (from anyio<4.0->langchain) (1.3.0)\n",
      "Requirement already satisfied: marshmallow<4.0.0,>=3.18.0 in c:\\users\\abhay\\onedrive\\desktop\\llm\\llm\\env_for_llm\\lib\\site-packages (from dataclasses-json<0.7,>=0.5.7->langchain) (3.20.1)\n",
      "Requirement already satisfied: typing-inspect<1,>=0.4.0 in c:\\users\\abhay\\onedrive\\desktop\\llm\\llm\\env_for_llm\\lib\\site-packages (from dataclasses-json<0.7,>=0.5.7->langchain) (0.9.0)\n",
      "Requirement already satisfied: jsonpointer>=1.9 in c:\\users\\abhay\\onedrive\\desktop\\llm\\llm\\env_for_llm\\lib\\site-packages (from jsonpatch<2.0,>=1.33->langchain) (2.4)\n",
      "Collecting annotated-types>=0.4.0 (from pydantic<3,>=1->langchain)\n",
      "  Downloading annotated_types-0.6.0-py3-none-any.whl.metadata (12 kB)\n",
      "Collecting pydantic-core==2.10.1 (from pydantic<3,>=1->langchain)\n",
      "  Downloading pydantic_core-2.10.1-cp311-none-win_amd64.whl.metadata (6.6 kB)\n",
      "Requirement already satisfied: typing-extensions>=4.6.1 in c:\\users\\abhay\\onedrive\\desktop\\llm\\llm\\env_for_llm\\lib\\site-packages (from pydantic<3,>=1->langchain) (4.8.0)\n",
      "Requirement already satisfied: urllib3<3,>=1.21.1 in c:\\users\\abhay\\onedrive\\desktop\\llm\\llm\\env_for_llm\\lib\\site-packages (from requests<3,>=2->langchain) (2.0.7)\n",
      "Requirement already satisfied: certifi>=2017.4.17 in c:\\users\\abhay\\onedrive\\desktop\\llm\\llm\\env_for_llm\\lib\\site-packages (from requests<3,>=2->langchain) (2023.7.22)\n",
      "Collecting greenlet!=0.4.17 (from SQLAlchemy<3,>=1.4->langchain)\n",
      "  Downloading greenlet-3.0.1-cp311-cp311-win_amd64.whl.metadata (3.8 kB)\n",
      "Requirement already satisfied: packaging>=17.0 in c:\\users\\abhay\\onedrive\\desktop\\llm\\llm\\env_for_llm\\lib\\site-packages (from marshmallow<4.0.0,>=3.18.0->dataclasses-json<0.7,>=0.5.7->langchain) (23.2)\n",
      "Requirement already satisfied: mypy-extensions>=0.3.0 in c:\\users\\abhay\\onedrive\\desktop\\llm\\llm\\env_for_llm\\lib\\site-packages (from typing-inspect<1,>=0.4.0->dataclasses-json<0.7,>=0.5.7->langchain) (1.0.0)\n",
      "Downloading langchain-0.0.330-py3-none-any.whl (2.0 MB)\n",
      "   ---------------------------------------- 0.0/2.0 MB ? eta -:--:--\n",
      "   ------ --------------------------------- 0.3/2.0 MB 6.5 MB/s eta 0:00:01\n",
      "   ---------------- ----------------------- 0.8/2.0 MB 8.3 MB/s eta 0:00:01\n",
      "   ------------------------ --------------- 1.2/2.0 MB 8.4 MB/s eta 0:00:01\n",
      "   -------------------------------- ------- 1.6/2.0 MB 9.3 MB/s eta 0:00:01\n",
      "   ---------------------------------------  2.0/2.0 MB 9.6 MB/s eta 0:00:01\n",
      "   ---------------------------------------- 2.0/2.0 MB 7.8 MB/s eta 0:00:00\n",
      "Downloading aiohttp-3.8.6-cp311-cp311-win_amd64.whl (322 kB)\n",
      "   ---------------------------------------- 0.0/322.6 kB ? eta -:--:--\n",
      "   --------------------------------------- 322.6/322.6 kB 10.1 MB/s eta 0:00:00\n",
      "Downloading anyio-3.7.1-py3-none-any.whl (80 kB)\n",
      "   ---------------------------------------- 0.0/80.9 kB ? eta -:--:--\n",
      "   ---------------------------------------- 80.9/80.9 kB ? eta 0:00:00\n",
      "Downloading jsonpatch-1.33-py2.py3-none-any.whl (12 kB)\n",
      "Downloading langsmith-0.0.57-py3-none-any.whl (44 kB)\n",
      "   ---------------------------------------- 0.0/44.5 kB ? eta -:--:--\n",
      "   ---------------------------------------- 44.5/44.5 kB 2.1 MB/s eta 0:00:00\n",
      "Downloading pydantic-2.4.2-py3-none-any.whl (395 kB)\n",
      "   ---------------------------------------- 0.0/395.8 kB ? eta -:--:--\n",
      "   ------------------------------------ -- 368.6/395.8 kB 11.6 MB/s eta 0:00:01\n",
      "   ---------------------------------------- 395.8/395.8 kB 8.2 MB/s eta 0:00:00\n",
      "Downloading pydantic_core-2.10.1-cp311-none-win_amd64.whl (2.0 MB)\n",
      "   ---------------------------------------- 0.0/2.0 MB ? eta -:--:--\n",
      "   --------- ------------------------------ 0.5/2.0 MB 14.2 MB/s eta 0:00:01\n",
      "   ------------------ --------------------- 0.9/2.0 MB 11.8 MB/s eta 0:00:01\n",
      "   ----------------------------- ---------- 1.5/2.0 MB 11.6 MB/s eta 0:00:01\n",
      "   ---------------------------------- ----- 1.7/2.0 MB 9.8 MB/s eta 0:00:01\n",
      "   ---------------------------------------  2.0/2.0 MB 9.7 MB/s eta 0:00:01\n",
      "   ---------------------------------------- 2.0/2.0 MB 8.4 MB/s eta 0:00:00\n",
      "Downloading SQLAlchemy-2.0.23-cp311-cp311-win_amd64.whl (2.1 MB)\n",
      "   ---------------------------------------- 0.0/2.1 MB ? eta -:--:--\n",
      "   ---------- ----------------------------- 0.5/2.1 MB 16.8 MB/s eta 0:00:01\n",
      "   ------------------- -------------------- 1.0/2.1 MB 12.5 MB/s eta 0:00:01\n",
      "   ------------------------------ --------- 1.6/2.1 MB 12.4 MB/s eta 0:00:01\n",
      "   ---------------------------------------  2.0/2.1 MB 11.8 MB/s eta 0:00:01\n",
      "   ---------------------------------------- 2.1/2.1 MB 10.1 MB/s eta 0:00:00\n",
      "Downloading tenacity-8.2.3-py3-none-any.whl (24 kB)\n",
      "Downloading annotated_types-0.6.0-py3-none-any.whl (12 kB)\n",
      "Downloading async_timeout-4.0.3-py3-none-any.whl (5.7 kB)\n",
      "Downloading frozenlist-1.4.0-cp311-cp311-win_amd64.whl (44 kB)\n",
      "   ---------------------------------------- 0.0/44.9 kB ? eta -:--:--\n",
      "   ---------------------------------------- 44.9/44.9 kB 2.2 MB/s eta 0:00:00\n",
      "Downloading greenlet-3.0.1-cp311-cp311-win_amd64.whl (288 kB)\n",
      "   ---------------------------------------- 0.0/288.4 kB ? eta -:--:--\n",
      "   ---------------------------------------- 288.4/288.4 kB 5.9 MB/s eta 0:00:00\n",
      "Installing collected packages: tenacity, pydantic-core, multidict, jsonpatch, greenlet, frozenlist, async-timeout, anyio, annotated-types, yarl, SQLAlchemy, pydantic, aiosignal, langsmith, aiohttp, langchain\n",
      "  Attempting uninstall: anyio\n",
      "    Found existing installation: anyio 4.0.0\n",
      "    Uninstalling anyio-4.0.0:\n",
      "      Successfully uninstalled anyio-4.0.0\n",
      "Successfully installed SQLAlchemy-2.0.23 aiohttp-3.8.6 aiosignal-1.3.1 annotated-types-0.6.0 anyio-3.7.1 async-timeout-4.0.3 frozenlist-1.4.0 greenlet-3.0.1 jsonpatch-1.33 langchain-0.0.330 langsmith-0.0.57 multidict-6.0.4 pydantic-2.4.2 pydantic-core-2.10.1 tenacity-8.2.3 yarl-1.9.2\n"
     ]
    }
   ],
   "source": [
    "!pip install langchain\n"
   ]
  },
  {
   "cell_type": "code",
   "execution_count": 5,
   "id": "f37bce6c-da0a-4d57-9932-9ac044b21a27",
   "metadata": {},
   "outputs": [],
   "source": [
    "from langchain.document_loaders import UnstructuredURLLoader"
   ]
  },
  {
   "cell_type": "code",
   "execution_count": 6,
   "id": "7df20112-7037-4704-95ed-886558eb9eda",
   "metadata": {},
   "outputs": [],
   "source": [
    "loader = UnstructuredURLLoader(urls = [\n",
    "    \"https://timesofindia.indiatimes.com/blogs/voices/current-trends-in-the-indian-automotive-sector/\",\n",
    "    \"https://www.ibef.org/industry/agriculture-india\"\n",
    "])"
   ]
  },
  {
   "cell_type": "code",
   "execution_count": 7,
   "id": "266abf44-0c27-4e2e-81eb-7c11fa3c4de9",
   "metadata": {},
   "outputs": [
    {
     "name": "stderr",
     "output_type": "stream",
     "text": [
      "[nltk_data] Downloading package punkt to\n",
      "[nltk_data]     C:\\Users\\abhay\\AppData\\Roaming\\nltk_data...\n",
      "[nltk_data]   Unzipping tokenizers\\punkt.zip.\n",
      "[nltk_data] Downloading package averaged_perceptron_tagger to\n",
      "[nltk_data]     C:\\Users\\abhay\\AppData\\Roaming\\nltk_data...\n",
      "[nltk_data]   Unzipping taggers\\averaged_perceptron_tagger.zip.\n"
     ]
    }
   ],
   "source": [
    "data = loader.load()"
   ]
  },
  {
   "cell_type": "code",
   "execution_count": 8,
   "id": "f8ad7bd2-5c78-45c6-9af8-2c83343c8c85",
   "metadata": {},
   "outputs": [
    {
     "data": {
      "text/plain": [
       "2"
      ]
     },
     "execution_count": 8,
     "metadata": {},
     "output_type": "execute_result"
    }
   ],
   "source": [
    "len(data)"
   ]
  },
  {
   "cell_type": "code",
   "execution_count": null,
   "id": "1b86f69b-875e-4b99-bac6-74f284b01946",
   "metadata": {},
   "outputs": [],
   "source": [
    "data[0].page_content"
   ]
  },
  {
   "cell_type": "code",
   "execution_count": 12,
   "id": "45ec83ca-c2e3-4fcf-9e01-573339f62c9a",
   "metadata": {},
   "outputs": [],
   "source": [
    "from langchain.text_splitter import CharacterTextSplitter"
   ]
  },
  {
   "cell_type": "code",
   "execution_count": 17,
   "id": "7716daf2-2fba-46f9-944d-d90f46fa631e",
   "metadata": {},
   "outputs": [],
   "source": [
    "text= \"\"\"A quantum computer is a computer that takes advantage of quantum mechanical phenomena.\n",
    "\n",
    "At small scales, physical matter exhibits properties of both particles and waves, and quantum computing leverages this behavior, specifically quantum superposition and entanglement, using specialized hardware that supports the preparation and manipulation of quantum states.\n",
    "\n",
    "Classical physics cannot explain the operation of these quantum devices, and a scalable quantum computer could perform some calculations exponentially faster[2] than any modern \"classical\" computer. In particular, a large-scale quantum computer could break widely used encryption schemes and aid physicists in performing physical simulations; however, the current state of the art is largely experimental and impractical, with several obstacles to useful applications. Moreover, scalable quantum computers do not hold promise for many practical tasks, and for many important tasks quantum speedups are proven impossible.\n",
    "\n",
    "The basic unit of information in quantum computing is the qubit, similar to the bit in traditional digital electronics. Unlike a classical bit, a qubit can exist in a superposition of its two \"basis\" states, which loosely means that it is in both states simultaneously. When measuring a qubit, the result is a probabilistic output of a classical bit, therefore making quantum computers nondeterministic in general. If a quantum computer manipulates the qubit in a particular way, wave interference effects can amplify the desired measurement results. The design of quantum algorithms involves creating procedures that allow a quantum computer to perform calculations efficiently and quickly.\n",
    "\n",
    "Physically engineering high-quality qubits has proven challenging. If a physical qubit is not sufficiently isolated from its environment, it suffers from quantum decoherence, introducing noise into calculations. Paradoxically, perfectly isolating qubits is also undesirable because quantum computations typically need to initialize qubits, perform controlled qubit interactions, and measure the resulting quantum states. Each of those operations introduces errors and suffers from noise, and such inaccuracies accumulate.\n",
    "\n",
    "National governments have invested heavily in experimental research that aims to develop scalable qubits with longer coherence times and lower error rates. Two of the most promising technologies are superconductors (which isolate an electrical current by eliminating electrical resistance) and ion traps (which confine a single ion using electromagnetic fields).\n",
    "\n",
    "In principle, a non-quantum (classical) computer can solve the same computational problems as a quantum computer, given enough time. Quantum advantage comes in the form of time complexity rather than computability, and quantum complexity theory shows that some quantum algorithms for carefully selected tasks require exponentially fewer computational steps than the best known non-quantum algorithms. Such tasks can in theory be solved on a large-scale quantum computer whereas classical computers would not finish computations in any reasonable amount of time. However, quantum speedup is not universal or even typical across computational tasks, since basic tasks such as sorting are proven to not allow any asymptotic quantum speedup. Claims of quantum supremacy have drawn significant attention to the discipline, but are demonstrated on contrived tasks, while near-term practical use cases remain limited.\"\"\""
   ]
  },
  {
   "cell_type": "code",
   "execution_count": 18,
   "id": "420640a1-14d3-4596-ab3f-e2b0096e34c7",
   "metadata": {},
   "outputs": [],
   "source": [
    "splitter = CharacterTextSplitter(\n",
    "    separator = \"\\n\",\n",
    "    chunk_size = 200,\n",
    "    chunk_overlap = 0\n",
    ")"
   ]
  },
  {
   "cell_type": "code",
   "execution_count": 19,
   "id": "b27c198e-796d-4c80-afd9-87afab90f2cf",
   "metadata": {},
   "outputs": [
    {
     "name": "stderr",
     "output_type": "stream",
     "text": [
      "Created a chunk of size 274, which is longer than the specified 200\n",
      "Created a chunk of size 620, which is longer than the specified 200\n",
      "Created a chunk of size 691, which is longer than the specified 200\n",
      "Created a chunk of size 521, which is longer than the specified 200\n",
      "Created a chunk of size 362, which is longer than the specified 200\n"
     ]
    }
   ],
   "source": [
    "chunks = splitter.split_text(text)"
   ]
  },
  {
   "cell_type": "code",
   "execution_count": 20,
   "id": "87622a06-b1c7-4a2f-92a7-bb1385fe21ae",
   "metadata": {},
   "outputs": [
    {
     "data": {
      "text/plain": [
       "7"
      ]
     },
     "execution_count": 20,
     "metadata": {},
     "output_type": "execute_result"
    }
   ],
   "source": [
    "len(chunks)"
   ]
  },
  {
   "cell_type": "code",
   "execution_count": 21,
   "id": "57237788-9d02-4466-b3a1-c17b2c98b7b2",
   "metadata": {},
   "outputs": [
    {
     "name": "stdout",
     "output_type": "stream",
     "text": [
      "86\n",
      "274\n",
      "620\n",
      "691\n",
      "521\n",
      "362\n",
      "910\n"
     ]
    }
   ],
   "source": [
    "for chunk in chunks:\n",
    "    print(len(chunk))"
   ]
  },
  {
   "cell_type": "code",
   "execution_count": null,
   "id": "baad8dfe-7290-4b3b-90dd-275745420f93",
   "metadata": {},
   "outputs": [],
   "source": []
  },
  {
   "cell_type": "code",
   "execution_count": null,
   "id": "47069895-8686-4226-91d8-ecd3915af07a",
   "metadata": {},
   "outputs": [],
   "source": []
  }
 ],
 "metadata": {
  "kernelspec": {
   "display_name": "env_for_llm",
   "language": "python",
   "name": "env_for_llm"
  },
  "language_info": {
   "codemirror_mode": {
    "name": "ipython",
    "version": 3
   },
   "file_extension": ".py",
   "mimetype": "text/x-python",
   "name": "python",
   "nbconvert_exporter": "python",
   "pygments_lexer": "ipython3",
   "version": "3.11.4"
  }
 },
 "nbformat": 4,
 "nbformat_minor": 5
}
